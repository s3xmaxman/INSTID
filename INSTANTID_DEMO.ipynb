{
  "nbformat": 4,
  "nbformat_minor": 0,
  "metadata": {
    "colab": {
      "provenance": [],
      "gpuType": "T4",
      "include_colab_link": true
    },
    "kernelspec": {
      "name": "python3",
      "display_name": "Python 3"
    },
    "language_info": {
      "name": "python"
    },
    "accelerator": "GPU"
  },
  "cells": [
    {
      "cell_type": "markdown",
      "metadata": {
        "id": "view-in-github",
        "colab_type": "text"
      },
      "source": [
        "<a href=\"https://colab.research.google.com/github/s3xmaxman/INSTID/blob/main/INSTANTID_DEMO.ipynb\" target=\"_parent\"><img src=\"https://colab.research.google.com/assets/colab-badge.svg\" alt=\"Open In Colab\"/></a>"
      ]
    },
    {
      "cell_type": "code",
      "execution_count": null,
      "metadata": {
        "id": "DvNCnzCg6aZN"
      },
      "outputs": [],
      "source": [
        "#@title 1. Keep this tab alive to prevent Colab from disconnecting you { display-mode: \"form\" }\n",
        "\n",
        "#@markdown Press play on the music player that will appear below:\n",
        "%%html\n",
        "<audio src=\"https://oobabooga.github.io/silence.m4a\" controls>"
      ]
    },
    {
      "cell_type": "code",
      "source": [
        "#@title 2. Launch the InstantID Gradio Demo\n",
        "#@markdown Run the cell, wait for everything to download and then click on the public URL.</br>\n",
        "%cd /content\n",
        "!git clone https://github.com/s3xmaxman/INSTID.git\n",
        "%cd /content/INSTID\n",
        "\n",
        "!git lfs install\n",
        "!git clone https://huggingface.co/Aitrepreneur/models\n",
        "\n",
        "!pip install -q insightface onnxruntime diffusers accelerate gradio==4.15.0\n",
        "!pip install -q https://download.pytorch.org/whl/cu121/xformers-0.0.22.post7-cp310-cp310-manylinux2014_x86_64.whl\n",
        "\n",
        "!python app.py --medvram --share"
      ],
      "metadata": {
        "id": "U2u537id6l4-"
      },
      "execution_count": null,
      "outputs": []
    }
  ]
}